{
 "cells": [
  {
   "cell_type": "code",
   "execution_count": 5,
   "id": "7f4b4b2f-5eaf-447d-b287-316bf58c0ec6",
   "metadata": {},
   "outputs": [],
   "source": [
    "import numpy as np\n",
    "import ast"
   ]
  },
  {
   "cell_type": "code",
   "execution_count": 8,
   "id": "485279c0-6e11-4a62-b5c2-54598ca6f84f",
   "metadata": {},
   "outputs": [],
   "source": [
    "with open('maze.txt') as f:\n",
    "    maze_ad = np.array(ast.literal_eval(f.read()))"
   ]
  },
  {
   "cell_type": "code",
   "execution_count": 9,
   "id": "f0807713-8279-4f04-b79e-41d0403bea4c",
   "metadata": {},
   "outputs": [
    {
     "data": {
      "text/plain": [
       "array([[1., 0., 0., 0.],\n",
       "       [1., 1., 1., 0.],\n",
       "       [0., 1., 1., 0.],\n",
       "       ...,\n",
       "       [1., 0., 1., 0.],\n",
       "       [1., 0., 1., 0.],\n",
       "       [0., 0., 1., 1.]], shape=(400, 4))"
      ]
     },
     "execution_count": 9,
     "metadata": {},
     "output_type": "execute_result"
    }
   ],
   "source": [
    "maze_ad"
   ]
  },
  {
   "cell_type": "code",
   "execution_count": 27,
   "id": "ced02657-575f-4434-a411-9b48f578f463",
   "metadata": {},
   "outputs": [],
   "source": [
    "def delta(idx) -> tuple[int, int]:\n",
    "    return [(0, 1), (1, 0), (0, -1), (-1, 0)][idx]\n",
    "\n",
    "def c_to_i(x, y, size) -> int:\n",
    "    return x * size + y\n",
    "\n",
    "def i_to_c(i, size) -> tuple[int, int]:\n",
    "    return i // size, i % size\n",
    "\n",
    "def move(s: int, a: int, size: int) -> int:\n",
    "    x, y = i_to_c(s, n_states)\n",
    "    dx, dy = delta(a)\n",
    "    return c_to_i(x + dx, y + dy, size)"
   ]
  },
  {
   "cell_type": "code",
   "execution_count": 18,
   "id": "65752744-68d3-4048-9f9d-8bad8eebe553",
   "metadata": {},
   "outputs": [],
   "source": [
    "alpha = 0.1\n",
    "gamma = 0.1\n",
    "\n",
    "n_states = maze_ad.shape[0]\n",
    "n_actions = 4\n",
    "\n",
    "Q_init = np.ones([n_states, n_actions])\n",
    "R = np.zeros(n_states)\n",
    "R[-1] = 10  # Promote the exit\n",
    "R[maze_ad.sum(axis=1) <= 1] = 0  # Avoid dead ends\n",
    "\n",
    "s_init = 0"
   ]
  },
  {
   "cell_type": "code",
   "execution_count": 30,
   "id": "9191c763-5d42-4a2b-b587-22dfb519148b",
   "metadata": {},
   "outputs": [],
   "source": [
    "def play_episode(Q, R):\n",
    "    s_t = s_init\n",
    "\n",
    "    while s_t != n_states - 1:\n",
    "        R_a = maze_ad[s_t, :] * Q[s_t, :]\n",
    "        a_max = R_a.argmax()\n",
    "\n",
    "        s_t1 = move(s_t, a_max, n_states)\n",
    "        Q[s_t, a_max] = (1. - alpha) * Q[s_t, a_max] \\\n",
    "            + alpha * R[s_t1] \\\n",
    "            + alpha * gamma * max([Q[s_t1, a] for a in range(4)])\n",
    "\n",
    "        s_t = s_t1\n",
    "    return Q"
   ]
  },
  {
   "cell_type": "code",
   "execution_count": 31,
   "id": "ddef728c-c695-40c4-b3ef-8c24f2f2c4b6",
   "metadata": {},
   "outputs": [
    {
     "ename": "IndexError",
     "evalue": "index 402 is out of bounds for axis 0 with size 400",
     "output_type": "error",
     "traceback": [
      "\u001b[0;31m---------------------------------------------------------------------------\u001b[0m",
      "\u001b[0;31mIndexError\u001b[0m                                Traceback (most recent call last)",
      "Cell \u001b[0;32mIn[31], line 1\u001b[0m\n\u001b[0;32m----> 1\u001b[0m \u001b[43mplay_episode\u001b[49m\u001b[43m(\u001b[49m\u001b[43mQ_init\u001b[49m\u001b[43m,\u001b[49m\u001b[43m \u001b[49m\u001b[43mR\u001b[49m\u001b[43m)\u001b[49m\n",
      "Cell \u001b[0;32mIn[30], line 10\u001b[0m, in \u001b[0;36mplay_episode\u001b[0;34m(Q, R)\u001b[0m\n\u001b[1;32m      6\u001b[0m     a_max \u001b[38;5;241m=\u001b[39m R_a\u001b[38;5;241m.\u001b[39margmax()\n\u001b[1;32m      8\u001b[0m     s_t1 \u001b[38;5;241m=\u001b[39m move(s_t, a_max, n_states)\n\u001b[1;32m      9\u001b[0m     Q[s_t, a_max] \u001b[38;5;241m=\u001b[39m (\u001b[38;5;241m1.\u001b[39m \u001b[38;5;241m-\u001b[39m alpha) \u001b[38;5;241m*\u001b[39m Q[s_t, a_max] \\\n\u001b[0;32m---> 10\u001b[0m         \u001b[38;5;241m+\u001b[39m alpha \u001b[38;5;241m*\u001b[39m \u001b[43mR\u001b[49m\u001b[43m[\u001b[49m\u001b[43ms_t1\u001b[49m\u001b[43m]\u001b[49m \\\n\u001b[1;32m     11\u001b[0m         \u001b[38;5;241m+\u001b[39m alpha \u001b[38;5;241m*\u001b[39m gamma \u001b[38;5;241m*\u001b[39m \u001b[38;5;28mmax\u001b[39m([Q[s_t1, a] \u001b[38;5;28;01mfor\u001b[39;00m a \u001b[38;5;129;01min\u001b[39;00m \u001b[38;5;28mrange\u001b[39m(\u001b[38;5;241m4\u001b[39m)])\n\u001b[1;32m     13\u001b[0m     s_t \u001b[38;5;241m=\u001b[39m s_t1\n\u001b[1;32m     14\u001b[0m \u001b[38;5;28;01mreturn\u001b[39;00m Q\n",
      "\u001b[0;31mIndexError\u001b[0m: index 402 is out of bounds for axis 0 with size 400"
     ]
    }
   ],
   "source": [
    "play_episode(Q_init, R)"
   ]
  }
 ],
 "metadata": {
  "kernelspec": {
   "display_name": "Python 3 (ipykernel)",
   "language": "python",
   "name": "python3"
  },
  "language_info": {
   "codemirror_mode": {
    "name": "ipython",
    "version": 3
   },
   "file_extension": ".py",
   "mimetype": "text/x-python",
   "name": "python",
   "nbconvert_exporter": "python",
   "pygments_lexer": "ipython3",
   "version": "3.13.1"
  }
 },
 "nbformat": 4,
 "nbformat_minor": 5
}
