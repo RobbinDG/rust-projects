{
 "cells": [
  {
   "cell_type": "code",
   "execution_count": 60,
   "id": "3bd91203-2853-4d34-b44f-8a1d1322324e",
   "metadata": {},
   "outputs": [],
   "source": [
    "import numpy as np\n",
    "import matplotlib.pyplot as plt\n",
    "import json"
   ]
  },
  {
   "cell_type": "code",
   "execution_count": 31,
   "id": "7c540b2b-49d2-4bd4-a125-9184b6b43f13",
   "metadata": {},
   "outputs": [],
   "source": [
    "def delta(idx) -> tuple[int, int]:\n",
    "    return [(0, 1), (1, 0), (0, -1), (-1, 0)][idx]\n",
    "\n",
    "def c_to_i(x, y, size) -> int:\n",
    "    return x * size + y\n",
    "\n",
    "def i_to_c(i, size) -> tuple[int, int]:\n",
    "    return i // size, i % size\n",
    "\n",
    "def _gen_maze(x: int, y: int, size: int, ad: np.array) -> np.array:\n",
    "    for i in np.random.permutation(4):\n",
    "        dx, dy = delta(i)\n",
    "        x_, y_ = x + dx, y + dy\n",
    "\n",
    "        if not (0 <= x_ < size) or not (0 <= y_ < size):\n",
    "            continue\n",
    "\n",
    "        idx = c_to_i(x, y, size)\n",
    "        idx_ = c_to_i(x_, y_, size)\n",
    "        \n",
    "        if ad[idx, i] == 1:\n",
    "            continue\n",
    "\n",
    "        if ad[idx_, 4] == 1:\n",
    "            continue\n",
    "\n",
    "        ad[idx, i] = 1\n",
    "        ad[idx_, 4] = 1\n",
    "        ad[idx_, (i + 2) % 4] = 1\n",
    "        ad = _gen_maze(x_, y_, size, ad)\n",
    "    return ad\n",
    "\n",
    "def generate_maze(size: int) -> np.array:\n",
    "    ad = np.zeros([size * size, 5])\n",
    "\n",
    "    x, y = size // 2, 0\n",
    "    ad[c_to_i(x, y, size), 4] = 1\n",
    "    ad = _gen_maze(x, y, size, ad)\n",
    "    \n",
    "    return ad"
   ]
  },
  {
   "cell_type": "code",
   "execution_count": 45,
   "id": "b994bd33-d1f5-4086-b5ce-ff9fad2abb0a",
   "metadata": {},
   "outputs": [],
   "source": [
    "def make_diagram(ad):\n",
    "    maze_diagram = np.zeros([size * 2 + 1, size * 2 + 1])\n",
    "    for i in range(maze_ad.shape[0]):\n",
    "        x, y = i_to_c(i, size)\n",
    "        x_, y_ = 2 * x + 1, 2 * y + 1\n",
    "        maze_diagram[x_, y_] = 1\n",
    "        for j in range(4):\n",
    "            if maze_ad[i, j] == 1:\n",
    "                dx, dy = delta(j)\n",
    "                maze_diagram[x_ + dx, y_ + dy] = 1\n",
    "\n",
    "    in_x, in_y = size // 2, 0\n",
    "    out_x, out_y = size // 2, size - 1\n",
    "    maze_diagram[in_x * 2 + 1, in_y * 2] = 1\n",
    "    maze_diagram[out_x * 2 + 1, out_y * 2 + 2] = 1\n",
    "    plt.matshow(maze_diagram)"
   ]
  },
  {
   "cell_type": "code",
   "execution_count": 71,
   "id": "6de098e3-319c-4664-b1a5-652bd1b80840",
   "metadata": {},
   "outputs": [
    {
     "data": {
      "image/png": "[encoded data removed]",
      "text/plain": [
       "<Figure size 480x480 with 1 Axes>"
      ]
     },
     "metadata": {},
     "output_type": "display_data"
    }
   ],
   "source": [
    "size = 10\n",
    "maze_ad = generate_maze(size)\n",
    "make_diagram(maze_ad)\n",
    "with open('maze.txt', 'w+') as f: \n",
    "    f.write(str(maze_ad[:,:4].tolist()))"
   ]
  },
  {
   "cell_type": "code",
   "execution_count": null,
   "id": "30ccd5c2-b826-4042-9787-54561bb9d0d2",
   "metadata": {},
   "outputs": [],
   "source": []
  }
 ],
 "metadata": {
  "kernelspec": {
   "display_name": "Python 3 (ipykernel)",
   "language": "python",
   "name": "python3"
  },
  "language_info": {
   "codemirror_mode": {
    "name": "ipython",
    "version": 3
   },
   "file_extension": ".py",
   "mimetype": "text/x-python",
   "name": "python",
   "nbconvert_exporter": "python",
   "pygments_lexer": "ipython3",
   "version": "3.13.1"
  }
 },
 "nbformat": 4,
 "nbformat_minor": 5
}
